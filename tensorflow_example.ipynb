{
 "cells": [
  {
   "cell_type": "code",
   "execution_count": 1,
   "metadata": {},
   "outputs": [],
   "source": [
    "import tensorflow as tf\n",
    "import numpy as np"
   ]
  },
  {
   "cell_type": "code",
   "execution_count": 2,
   "metadata": {},
   "outputs": [],
   "source": [
    "x=tf.placeholder(shape=[None,2],dtype=tf.float32)\n",
    "y=tf.placeholder(shape=[None,1],dtype=tf.float32)"
   ]
  },
  {
   "cell_type": "code",
   "execution_count": 3,
   "metadata": {},
   "outputs": [],
   "source": [
    "#w=tf.Variable([[1,2],[1,2]],dtype=tf.float32)\n",
    "#b=tf.Variable([[1],[1]],dtype=tf.float32)\n",
    "w=tf.get_variable(\"W\",shape=[1,2],dtype=tf.float32,initializer=tf.random_normal_initializer)\n",
    "b=tf.get_variable(\"B\",shape=[1,1],dtype=tf.float32,initializer=tf.zeros_initializer)"
   ]
  },
  {
   "cell_type": "code",
   "execution_count": 4,
   "metadata": {},
   "outputs": [],
   "source": [
    "f=w*x+b\n",
    "loss=tf.losses.mean_squared_error(f,x)"
   ]
  },
  {
   "cell_type": "code",
   "execution_count": 5,
   "metadata": {},
   "outputs": [],
   "source": [
    "optimizer=tf.train.GradientDescentOptimizer(0.05)\n",
    "train=optimizer.minimize(loss)"
   ]
  },
  {
   "cell_type": "code",
   "execution_count": 6,
   "metadata": {},
   "outputs": [],
   "source": [
    "sess=tf.Session()\n",
    "sess.run(tf.global_variables_initializer())"
   ]
  },
  {
   "cell_type": "code",
   "execution_count": 7,
   "metadata": {},
   "outputs": [],
   "source": [
    "sess.run(train,feed_dict={x:[[1,2],[2,4]],y:[[2],[3]]})"
   ]
  },
  {
   "cell_type": "code",
   "execution_count": 8,
   "metadata": {},
   "outputs": [
    {
     "name": "stdout",
     "output_type": "stream",
     "text": [
      "[array([[0.91792893, 0.690651  ]], dtype=float32), array([[0.09983938]], dtype=float32)]\n"
     ]
    }
   ],
   "source": [
    "print(sess.run([w,b]))        #weights and biases after one step    "
   ]
  },
  {
   "cell_type": "markdown",
   "metadata": {},
   "source": [
    "Now to use the builtin linear regressor "
   ]
  },
  {
   "cell_type": "code",
   "execution_count": 9,
   "metadata": {},
   "outputs": [
    {
     "name": "stdout",
     "output_type": "stream",
     "text": [
      "INFO:tensorflow:Using default config.\n",
      "WARNING:tensorflow:Using temporary folder as model directory: C:\\Users\\gagan\\AppData\\Local\\Temp\\tmp2ubpy7z8\n",
      "INFO:tensorflow:Using config: {'_model_dir': 'C:\\\\Users\\\\gagan\\\\AppData\\\\Local\\\\Temp\\\\tmp2ubpy7z8', '_tf_random_seed': None, '_save_summary_steps': 100, '_save_checkpoints_steps': None, '_save_checkpoints_secs': 600, '_session_config': None, '_keep_checkpoint_max': 5, '_keep_checkpoint_every_n_hours': 10000, '_log_step_count_steps': 100, '_service': None, '_cluster_spec': <tensorflow.python.training.server_lib.ClusterSpec object at 0x000001AB0222A668>, '_task_type': 'worker', '_task_id': 0, '_master': '', '_is_chief': True, '_num_ps_replicas': 0, '_num_worker_replicas': 1}\n"
     ]
    }
   ],
   "source": [
    "feature_cols=[tf.feature_column.numeric_column(\"x\",shape=1),tf.feature_column.numeric_column(\"y\",shape=1)]\n",
    "estimator=tf.estimator.LinearRegressor(feature_columns=feature_cols)\n",
    "input_fn=tf.estimator.inputs.numpy_input_fn(x={'x':np.array([1,2]),'y':np.array([2,3])},y=np.array([2,3]),shuffle=True,num_epochs=100)"
   ]
  },
  {
   "cell_type": "code",
   "execution_count": 10,
   "metadata": {},
   "outputs": [
    {
     "name": "stdout",
     "output_type": "stream",
     "text": [
      "INFO:tensorflow:Create CheckpointSaverHook.\n",
      "INFO:tensorflow:Saving checkpoints for 1 into C:\\Users\\gagan\\AppData\\Local\\Temp\\tmp2ubpy7z8\\model.ckpt.\n",
      "INFO:tensorflow:loss = 837.0, step = 1\n",
      "INFO:tensorflow:Saving checkpoints for 2 into C:\\Users\\gagan\\AppData\\Local\\Temp\\tmp2ubpy7z8\\model.ckpt.\n",
      "INFO:tensorflow:Loss for final step: 166.68001.\n"
     ]
    },
    {
     "data": {
      "text/plain": [
       "<tensorflow.python.estimator.canned.linear.LinearRegressor at 0x1ab0222a390>"
      ]
     },
     "execution_count": 10,
     "metadata": {},
     "output_type": "execute_result"
    }
   ],
   "source": [
    "estimator.train(input_fn=input_fn)"
   ]
  },
  {
   "cell_type": "code",
   "execution_count": 11,
   "metadata": {},
   "outputs": [
    {
     "name": "stdout",
     "output_type": "stream",
     "text": [
      "INFO:tensorflow:Starting evaluation at 2018-02-28-14:44:57\n",
      "INFO:tensorflow:Restoring parameters from C:\\Users\\gagan\\AppData\\Local\\Temp\\tmp2ubpy7z8\\model.ckpt-2\n",
      "INFO:tensorflow:Finished evaluation at 2018-02-28-14:44:57\n",
      "INFO:tensorflow:Saving dict for global step 2: average_loss = 1.4603839, global_step = 2, loss = 146.03839\n"
     ]
    },
    {
     "data": {
      "text/plain": [
       "{'average_loss': 1.4603839, 'global_step': 2, 'loss': 146.03839}"
      ]
     },
     "execution_count": 11,
     "metadata": {},
     "output_type": "execute_result"
    }
   ],
   "source": [
    "estimator.evaluate(input_fn=input_fn)"
   ]
  },
  {
   "cell_type": "code",
   "execution_count": 14,
   "metadata": {},
   "outputs": [
    {
     "data": {
      "text/plain": [
       "<generator object Estimator.predict at 0x000001ABFA323EB8>"
      ]
     },
     "execution_count": 14,
     "metadata": {},
     "output_type": "execute_result"
    }
   ],
   "source": [
    "estimator.predict(input_fn=input_fn)"
   ]
  }
 ],
 "metadata": {
  "kernelspec": {
   "display_name": "Python 3",
   "language": "python",
   "name": "python3"
  },
  "language_info": {
   "codemirror_mode": {
    "name": "ipython",
    "version": 3
   },
   "file_extension": ".py",
   "mimetype": "text/x-python",
   "name": "python",
   "nbconvert_exporter": "python",
   "pygments_lexer": "ipython3",
   "version": "3.6.4"
  }
 },
 "nbformat": 4,
 "nbformat_minor": 1
}
